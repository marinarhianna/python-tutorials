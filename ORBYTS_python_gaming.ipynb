{
  "nbformat": 4,
  "nbformat_minor": 0,
  "metadata": {
    "colab": {
      "provenance": [],
      "authorship_tag": "ABX9TyNhdRSorJRyKrBq/wNjaMF8",
      "include_colab_link": true
    },
    "kernelspec": {
      "name": "python3",
      "display_name": "Python 3"
    },
    "language_info": {
      "name": "python"
    }
  },
  "cells": [
    {
      "cell_type": "markdown",
      "metadata": {
        "id": "view-in-github",
        "colab_type": "text"
      },
      "source": [
        "<a href=\"https://colab.research.google.com/github/marinarhianna/python-tutorials/blob/main/ORBYTS_python_gaming.ipynb\" target=\"_parent\"><img src=\"https://colab.research.google.com/assets/colab-badge.svg\" alt=\"Open In Colab\"/></a>"
      ]
    },
    {
      "cell_type": "markdown",
      "source": [
        "# Gaming Strategy Classifer 🎯\n",
        "\n",
        "In this notebook, we are going to train an AI to predict different gaming strategies."
      ],
      "metadata": {
        "id": "2GWguCl1COL1"
      }
    },
    {
      "cell_type": "markdown",
      "source": [
        "First, let's import our libraries."
      ],
      "metadata": {
        "id": "N4xLbgceKvW2"
      }
    },
    {
      "cell_type": "code",
      "source": [
        "import torch\n",
        "import torch.nn as nn\n",
        "import torch.optim as optim\n",
        "import numpy as np\n",
        "import random\n",
        "from torch.utils.data import TensorDataset, DataLoader\n",
        "from sklearn.model_selection import train_test_split\n",
        "import matplotlib.pyplot as plt\n",
        "import ipywidgets as widgets\n",
        "from IPython.display import display, clear_output"
      ],
      "metadata": {
        "id": "nMlIrKeb-0GH"
      },
      "execution_count": 1,
      "outputs": []
    },
    {
      "cell_type": "markdown",
      "source": [
        "Imagine you are playing a game where you can make your player do any of these moves at any time:\n",
        "\n",
        "* Attack ⚔\n",
        "* Defend 🛡\n",
        "* Heal ⚕\n",
        "* Wait 🤚\n",
        "\n",
        "Depending on which combo of these moves your player does, we can classify your gaming strategy style into different categories.\n",
        "\n",
        "For example, I have sorted these as:\n",
        "\n",
        "* Defend + Heal = **Cautious**\n",
        "* Attack + Attack + Heal = **Aggressive**\n",
        "* Wait + Heal + Defend = **Passive**\n",
        "\n",
        "Stick with these for now, and go through the notebook. You can come back and change the moves, strategies, and encoding later, if you want to!\n",
        "\n",
        "In the cell below, we:\n",
        "\n",
        "* Encode the moves by assigning a number to each move.\n",
        "* Define the strategies by setting which moves correspond to which strategy, and then create a dataset of size 10 by randomly shuffling each strategy's moves.\n",
        "* Prepare our dataset for `torch`.\n",
        "\n",
        "\n",
        "\n"
      ],
      "metadata": {
        "id": "GlOjZEUxKzbK"
      }
    },
    {
      "cell_type": "code",
      "source": [
        "# ─────────────────────────────────────────────────────────────\n",
        "# ⚔️ GAME MOVE STRATEGY DATASET\n",
        "# ─────────────────────────────────────────────────────────────\n",
        "\n",
        "# Encode the moves:\n",
        "\n",
        "                # 0=attack\n",
        "                # 1=defend\n",
        "                # 2=heal\n",
        "                # 3=wait\n",
        "\n",
        "move_vocab = [0, 1, 2, 3]\n",
        "\n",
        "# Define strategy definitions\n",
        "strategies = {\n",
        "    0: lambda: [random.choice([1, 2]) for _ in range(10)],             # cautious\n",
        "    1: lambda: [random.choice([0, 0, 2]) for _ in range(10)],          # aggressive\n",
        "    2: lambda: [random.choice([3, 2, 1]) for _ in range(10)],          # passive\n",
        "}\n",
        "\n",
        "# Add labels and create training tensors in torch\n",
        "X_game = []\n",
        "y_game = []\n",
        "for label in strategies:\n",
        "    for _ in range(100):\n",
        "        X_game.append(strategies[label]())\n",
        "        y_game.append(label)\n",
        "\n",
        "X_game = torch.tensor(X_game, dtype=torch.float32).unsqueeze(1)\n",
        "y_game = torch.tensor(y_game)"
      ],
      "metadata": {
        "id": "jLxSZNINEmQs"
      },
      "execution_count": 2,
      "outputs": []
    },
    {
      "cell_type": "markdown",
      "source": [
        "Now, let's define a simple CNN:\n",
        "\n",
        "* 1 convolutional layer\n",
        "* 1 pooling layer\n",
        "* 1 fully-connected layer\n"
      ],
      "metadata": {
        "id": "WfKmRnfLM73r"
      }
    },
    {
      "cell_type": "code",
      "source": [
        "# ─────────────────────────────────────────────────────────────\n",
        "# 🧠 CNN MODEL\n",
        "# ─────────────────────────────────────────────────────────────\n",
        "class Simple1DCNN(nn.Module):\n",
        "    def __init__(self, input_len, n_classes):\n",
        "        super(Simple1DCNN, self).__init__()\n",
        "        self.conv1 = nn.Conv1d(1, 8, kernel_size=3, padding=1)\n",
        "        self.pool = nn.MaxPool1d(2)\n",
        "        self.fc = nn.Linear(8 * (input_len // 2), n_classes)\n",
        "\n",
        "    def forward(self, x):\n",
        "        x = self.conv1(x)\n",
        "        x = torch.relu(x)\n",
        "        x = self.pool(x)\n",
        "        x = x.view(x.size(0), -1)\n",
        "        return self.fc(x)"
      ],
      "metadata": {
        "id": "P_GsaLIGEuHM"
      },
      "execution_count": 3,
      "outputs": []
    },
    {
      "cell_type": "markdown",
      "source": [
        "Next, let's train the model:"
      ],
      "metadata": {
        "id": "GAEc6nsHNUxf"
      }
    },
    {
      "cell_type": "code",
      "source": [
        "# ─────────────────────────────────────────────────────────────\n",
        "# 🚀 TRAIN MODEL\n",
        "# ─────────────────────────────────────────────────────────────\n",
        "\n",
        "# Split into training and testing sets\n",
        "X_train, X_test, y_train, y_test = train_test_split(X_game, y_game, test_size=0.2, stratify=y_game)\n",
        "\n",
        "# Set up model and define input length and number of classes\n",
        "model = Simple1DCNN(input_len=10, n_classes=3)\n",
        "\n",
        "# Set up optimizer and loss function\n",
        "opt = optim.Adam(model.parameters(), lr=0.001)\n",
        "loss_fn = nn.CrossEntropyLoss()\n",
        "\n",
        "# Create dataset loader\n",
        "train_loader = DataLoader(TensorDataset(X_train, y_train), batch_size=16, shuffle=True)\n",
        "\n",
        "# Train the model\n",
        "for _ in range(10):\n",
        "    for xb, yb in train_loader:\n",
        "        opt.zero_grad()\n",
        "        pred = model(xb)\n",
        "        loss = loss_fn(pred, yb)\n",
        "        loss.backward()\n",
        "        opt.step()"
      ],
      "metadata": {
        "id": "TTE_ZgiYE1s2"
      },
      "execution_count": 5,
      "outputs": []
    },
    {
      "cell_type": "markdown",
      "source": [
        "Now, we are going to test how good our AI is at predicting gaming strategies based off combinations of moves.\n",
        "\n",
        "* Run the cell below, and you will see a box that prompts you to enter a **10-digit** combination of moves.\n",
        "\n",
        "There will be a gaming strategy in **red** to try to get the AI to predict.\n",
        "\n",
        "* Use the box to type in a combination of digits associated with that strategy, and see if the AI is able to predict the strategy correctly.\n",
        "\n",
        "For every correct prediction the AI makes, the score will update.\n",
        "\n",
        "* Can you trick the AI into predicting the wrong thing?"
      ],
      "metadata": {
        "id": "R_2IisaeRXCI"
      }
    },
    {
      "cell_type": "code",
      "source": [
        "# ─────────────────────────────────────────────────────────────\n",
        "# 🎯 GAMIFIED CHALLENGE INTERFACE\n",
        "# ─────────────────────────────────────────────────────────────\n",
        "\n",
        "# Define class names\n",
        "class_names = [\"Cautious\", \"Aggressive\", \"Passive\"]\n",
        "\n",
        "# Start scoring system\n",
        "score = 0\n",
        "\n",
        "# Set up interface for testing our AI.\n",
        "goal_label = random.choice([0, 1, 2])\n",
        "goal_text = widgets.HTML(value=f\"<b>🎯 Challenge:</b> Try to make the AI say: <span style='color:red'>{class_names[goal_label]}</span>\")\n",
        "move_input = widgets.Text(description='Your Moves:', placeholder='10 digits like 0123012301')\n",
        "submit_button = widgets.Button(description='Submit')\n",
        "result_box = widgets.Output()\n",
        "\n",
        "\n",
        "# Function to restart interface and update with scores and messages\n",
        "def on_submit(b):\n",
        "    global goal_label, score\n",
        "    with result_box:\n",
        "        clear_output()\n",
        "        move_seq = move_input.value.strip()\n",
        "        if len(move_seq) != 10 or not all(c in '0123' for c in move_seq):\n",
        "            print(\"❌ Invalid input. Enter exactly 10 digits using 0-3.\")\n",
        "            return\n",
        "\n",
        "        move_vals = [int(c) for c in move_seq]\n",
        "        x = torch.tensor(move_vals, dtype=torch.float32).unsqueeze(0).unsqueeze(0)\n",
        "        probs = torch.softmax(model(x), dim=1).detach().numpy()[0]\n",
        "        predicted = int(np.argmax(probs))\n",
        "        confidence = probs[predicted]\n",
        "\n",
        "        print(f\"🤖 Beep! I think your sequence is.. {class_names[predicted]}! I am ({confidence:.2f}) confident.\")\n",
        "\n",
        "        if predicted == goal_label:\n",
        "            score += 1\n",
        "            print(\"🎉 AI successfully predicted your strategy! Beep boop!\")\n",
        "        else:\n",
        "            print(\"🔁 AI predicted incorrectly... Beep... Boop..\")\n",
        "\n",
        "        print(f\"🏆 Score: {score}\")\n",
        "        goal_label = random.choice([0, 1, 2])\n",
        "        goal_text.value = f\"<b>🎯 New Challenge:</b> Try to make the AI say: <span style='color:red'>{class_names[goal_label]}</span>\"\n",
        "\n",
        "submit_button.on_click(on_submit)\n",
        "\n",
        "# Display our game interface\n",
        "display(widgets.HTML(\"<h3>🎮 AI Strategy Classifier</h3>\"))\n",
        "display(goal_text, move_input, submit_button, result_box)"
      ],
      "metadata": {
        "id": "69TMXQY8Fdz9"
      },
      "execution_count": null,
      "outputs": []
    },
    {
      "cell_type": "markdown",
      "source": [
        "Some extra things to try out, if you want!\n",
        "\n",
        "* **Create your own move/strategy encodings!** Just remember to update the rest of the code accordingly, by reading through and making sure the code will be consistent with your changes -- keep track by commenting what you're doing, and for example updating the number of classes if you create more than 3 strategies. Get creative!\n",
        "\n",
        "* **Adapt the neural network** to make the AI better at predicting strategies by implementing some of the changes you looked at last week (eg. add another convolutional layer, increase number of epochs, etc.)"
      ],
      "metadata": {
        "id": "g_bZA3tbUxhZ"
      }
    }
  ]
}