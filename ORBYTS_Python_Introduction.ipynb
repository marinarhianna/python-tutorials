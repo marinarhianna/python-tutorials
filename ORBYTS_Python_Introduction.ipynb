{
  "nbformat": 4,
  "nbformat_minor": 0,
  "metadata": {
    "colab": {
      "provenance": []
    },
    "kernelspec": {
      "name": "python3",
      "display_name": "Python 3"
    },
    "language_info": {
      "name": "python"
    }
  },
  "cells": [
    {
      "cell_type": "markdown",
      "source": [
        "# Python Session 1: Introduction 🪐\n",
        "✨ Complete each exercise by following the instructions!\n",
        "\n",
        "\n",
        "*   If something starts with a \"#\", it is known as a **comment**. This is a way to add helpful information or descriptions into your code without the code attempting to run it.\n",
        "*   To run a cell, press the ▶ button on the left of the cell.\n",
        "*   To see a solution to an exercise, press the blue \"Show Code\" button\n",
        "\n"
      ],
      "metadata": {
        "id": "2Nuxi1gZjB5S"
      }
    },
    {
      "cell_type": "markdown",
      "source": [
        "### *Exercise 1* - Print Statements 🖨\n",
        "\n",
        "\n",
        "*   A print statement is a way to output a particular piece of information.\n",
        "*   It will become more obvious why we want to be able to do this later on, where we will want to print out important information that is a result of what we have coded.\n",
        "\n"
      ],
      "metadata": {
        "id": "zG-mnevApPhO"
      }
    },
    {
      "cell_type": "code",
      "execution_count": null,
      "metadata": {
        "id": "kg28hCluigVG"
      },
      "outputs": [],
      "source": [
        "# run this cell, and then try editing within the speech marks to write your own message.\n",
        "print(\"Hello world!\")"
      ]
    },
    {
      "cell_type": "markdown",
      "source": [
        "### *Exercise 2* - Variables, Maths, & Tools📊\n",
        "\n",
        "\n",
        "*   A variable is just when we set something equal to something else. It is a way for us to define things that we use in our code.\n",
        "*   We can set our variable names as whatever we want. It is useful if we keep them short and to the point: in the example below, we could set \"sum_result\" to be anything, like \"sum_of_x_and_y\" or \"addition_result\", or even \"meow\" if we wanted to.\n",
        "*   Python doesn't care what we name it as, but if we are going back through our code, it's helpful to name it something that makes it obvious to us what we were doing."
      ],
      "metadata": {
        "id": "ocLEEW17rSzI"
      }
    },
    {
      "cell_type": "code",
      "source": [
        "# define what x and y are\n",
        "x = 10                                 # try changing x and y\n",
        "y = 5\n",
        "\n",
        "# add them together and create a variable to store the result\n",
        "sum_result = x + y"
      ],
      "metadata": {
        "id": "JIgLT-NprRp5"
      },
      "execution_count": 79,
      "outputs": []
    },
    {
      "cell_type": "code",
      "source": [
        "# use a comma to separate the text we want to print and the variable name\n",
        "print(\"The sum of x and y is\", sum_result)"
      ],
      "metadata": {
        "id": "vx1Aasxgrhhn"
      },
      "execution_count": null,
      "outputs": []
    },
    {
      "cell_type": "markdown",
      "source": [
        "Python has some inbuilt tools that help us with data analysis. An example is to obtain the *length* of something.\n",
        "\n"
      ],
      "metadata": {
        "id": "KfSugw8L9T52"
      }
    },
    {
      "cell_type": "code",
      "source": [
        "message = \"Hello\"      # try changing the message, and remember the speech marks\n",
        "length = len(message)\n",
        "\n",
        "print(length)"
      ],
      "metadata": {
        "id": "3c15AfZP-Ag0"
      },
      "execution_count": null,
      "outputs": []
    },
    {
      "cell_type": "code",
      "source": [
        "# CHALLENGE: Edit this cell to print the length of your message, but in ONE line of code!\n",
        "\n",
        "###########\n",
        "# REPLACE #\n",
        "###########"
      ],
      "metadata": {
        "id": "rAMNREmJ-kNB"
      },
      "execution_count": 82,
      "outputs": []
    },
    {
      "cell_type": "code",
      "source": [
        "#@title See Solution:\n",
        "\n",
        "print(len(\"Hello\"))"
      ],
      "metadata": {
        "cellView": "form",
        "id": "OtT4AGqX_G7e"
      },
      "execution_count": null,
      "outputs": []
    },
    {
      "cell_type": "markdown",
      "source": [
        "### *Exercise 3* - Lists and Loops 🗒\n",
        "\n",
        "\n",
        "*   A list is where we store multiple things inside one variable.\n",
        "*   A loop is a statement beginning with \"for\" that allows us to perform some task/action on multiple variables by looping through each one at a time. It is a helpful shortcut when dealing with lots of variables or data where we can do the same thing to all of them without writing a line of code for each thing.  \n",
        "\n"
      ],
      "metadata": {
        "id": "QMRJ_O2xzKtO"
      }
    },
    {
      "cell_type": "code",
      "source": [
        "# define a list\n",
        "planets = [\"Mercury\", \"Venus\", \"Earth\", \"Mars\", \"Jupiter\", \"Saturn\", \"Uranus\", \"Neptune\"]   # separate with commas"
      ],
      "metadata": {
        "id": "DgAM5ZrvtXpl"
      },
      "execution_count": null,
      "outputs": []
    },
    {
      "cell_type": "markdown",
      "source": [
        "\n",
        "\n",
        "*   In Python, counting begins with **zero** instead of **one**.\n",
        "*   To specify just one planet out of the list, we use something called an **index**.\n",
        "\n",
        "To **index** our list:\n",
        "* Add some **square brackets** onto the **end** of the list name\n",
        "* **Within the brackets**, put which **number** in our list we want to specify.\n",
        "\n",
        "\n"
      ],
      "metadata": {
        "id": "aCXQP4ac_tAn"
      }
    },
    {
      "cell_type": "code",
      "source": [
        "# HARD CHALLENGE: Edit this cell to print out \"Mercury\" by indexing the \"planets\" list\n",
        "\n",
        "###########\n",
        "# REPLACE #\n",
        "###########"
      ],
      "metadata": {
        "id": "OIO0qb9F_q2D"
      },
      "execution_count": null,
      "outputs": []
    },
    {
      "cell_type": "code",
      "source": [
        "#@title See Solution:\n",
        "print(planets[0])"
      ],
      "metadata": {
        "cellView": "form",
        "id": "JZ9K05H1AoCW"
      },
      "execution_count": null,
      "outputs": []
    },
    {
      "cell_type": "code",
      "source": [
        "# Edit this cell to print out Earth and Saturn by indexing the \"planets\" list\n",
        "\n",
        "###########\n",
        "# REPLACE #\n",
        "###########"
      ],
      "metadata": {
        "id": "bjns2lMzBtEm"
      },
      "execution_count": null,
      "outputs": []
    },
    {
      "cell_type": "code",
      "source": [
        "#@title See Solution:\n",
        "print(planets[2])\n",
        "print(planets[5])"
      ],
      "metadata": {
        "cellView": "form",
        "id": "5e90VkWpCZnu"
      },
      "execution_count": null,
      "outputs": []
    },
    {
      "cell_type": "markdown",
      "source": [
        "Now, let's say we want to print out **how many letters** are in every planet's name.\n",
        "\n"
      ],
      "metadata": {
        "id": "GS2XHc38Rimq"
      }
    },
    {
      "cell_type": "code",
      "source": [
        "# Complete this cell by using the below line of code as an example to print out how many letters are in every planet's name.\n",
        "\n",
        "print(\"The number of letters in\", planets[0], \"is\", len(planets[0]))\n",
        "\n",
        "###################\n",
        "# ... continue... #\n",
        "###################"
      ],
      "metadata": {
        "id": "CrOaKSHe06bF"
      },
      "execution_count": null,
      "outputs": []
    },
    {
      "cell_type": "code",
      "source": [
        "#@title See Solution:\n",
        "print(\"The number of letters in\", planets[0], \"is\", len(planets[0]))\n",
        "print(\"The number of letters in\", planets[1], \"is\", len(planets[1]))\n",
        "print(\"The number of letters in\", planets[2], \"is\", len(planets[2]))\n",
        "print(\"The number of letters in\", planets[3], \"is\", len(planets[3]))\n",
        "print(\"The number of letters in\", planets[4], \"is\", len(planets[4]))\n",
        "print(\"The number of letters in\", planets[5], \"is\", len(planets[5]))\n",
        "print(\"The number of letters in\", planets[6], \"is\", len(planets[6]))\n",
        "print(\"The number of letters in\", planets[7], \"is\", len(planets[7]))"
      ],
      "metadata": {
        "cellView": "form",
        "id": "9MyWY00kC6au"
      },
      "execution_count": null,
      "outputs": []
    },
    {
      "cell_type": "markdown",
      "source": [
        "* As you see, writing out every single planet as its own line of code is very tedious and clunky.\n",
        "* We can use a **loop** to make this quicker and more elegant.\n",
        "\n",
        "\n"
      ],
      "metadata": {
        "id": "eNBRi6AODNEH"
      }
    },
    {
      "cell_type": "code",
      "source": [
        "for planet in planets:\n",
        "  print(\"The number of letters in\", planet, \"is\", len(planet))"
      ],
      "metadata": {
        "id": "g5lG6YMDCtJ3"
      },
      "execution_count": null,
      "outputs": []
    },
    {
      "cell_type": "markdown",
      "source": [
        "The structure of a loop:\n",
        "\n",
        "\n",
        "*   Begins with **for**\n",
        "*   The word \"planet\" in this loop can actually be *any word at all*, as long as we keep it the same as what we write in the print statement within the loop.\n",
        "*   Must specify *which list* to go through by saying \"**in** (name of list)\".\n",
        "*   Must end in a colon (:) and the contents of the loop inside an indent (the indent should appear automatically when you press enter after the colon.)\n",
        "\n"
      ],
      "metadata": {
        "id": "1c3qKHZODy4j"
      }
    },
    {
      "cell_type": "code",
      "source": [
        "# Edit this cell to copy the above loop, but this time feel free to change \"planet\" to anything you want.\n",
        "\n",
        "###########\n",
        "# REPLACE #\n",
        "###########"
      ],
      "metadata": {
        "id": "ChVJd9QDDs4z"
      },
      "execution_count": null,
      "outputs": []
    },
    {
      "cell_type": "code",
      "source": [
        "#@title See an Example:\n",
        "for x in planets:\n",
        "  print(\"The number of letters in\", x, \"is\", len(x))"
      ],
      "metadata": {
        "cellView": "form",
        "id": "pe9UgfayIKiZ"
      },
      "execution_count": null,
      "outputs": []
    },
    {
      "cell_type": "markdown",
      "source": [
        "Let's see some slightly more complex examples of the uses of loops."
      ],
      "metadata": {
        "id": "CwNqw1PJJcey"
      }
    },
    {
      "cell_type": "code",
      "source": [
        "# example dataset of planetary radii in km\n",
        "planet_info = [\n",
        "    (\"Mercury\", 2440),\n",
        "    (\"Venus\", 6052),\n",
        "    (\"Earth\", 6378),\n",
        "    (\"Mars\", 3390),\n",
        "    (\"Jupiter\", 69911),\n",
        "    (\"Saturn\", 58232),\n",
        "    (\"Uranus\", 25362),\n",
        "    (\"Neptune\", 24622)\n",
        "]"
      ],
      "metadata": {
        "id": "emLdmhJSITeG"
      },
      "execution_count": 84,
      "outputs": []
    },
    {
      "cell_type": "code",
      "source": [
        "# we can specify 2 parts for the loop to go through\n",
        "for planet, radius in planet_info:\n",
        "    print(\"The planet\", planet, \"has a radius of\", radius, \"km\")\n",
        "\n",
        "\n",
        "# have a go at changing planet and radius to x and y, or any other 2 names, to see it works the same!"
      ],
      "metadata": {
        "id": "u69tVFZXPdRx"
      },
      "execution_count": null,
      "outputs": []
    },
    {
      "cell_type": "markdown",
      "source": [
        "### **Discussion:**\n",
        "Have a look at the cell below."
      ],
      "metadata": {
        "id": "2iZLzfxwQiL0"
      }
    },
    {
      "cell_type": "code",
      "source": [
        "# Discussion example\n",
        "earth_radius = planet_info[2][1]\n",
        "\n",
        "for planet, radius in planet_info:\n",
        "  new_radius = radius + earth_radius\n",
        "\n",
        "  print(\"The radius of Earth plus the radius of\", planet, \"is\", new_radius)"
      ],
      "metadata": {
        "id": "kltIJbStNItc"
      },
      "execution_count": null,
      "outputs": []
    },
    {
      "cell_type": "markdown",
      "source": [
        "*   Why do you think [2][1] indexed onto planet_info gives us the radius of Earth?\n",
        "*   What index would we use if we wanted:\n",
        "\n",
        "    (a) the radius of Saturn\n",
        "\n",
        "    (b) the name of Jupiter\n"
      ],
      "metadata": {
        "id": "_JvQ5adY5Wqb"
      }
    },
    {
      "cell_type": "code",
      "source": [
        "# CHALLENGE: Write a loop that prints out the ratio of each planet's radius to Earth's radius\n",
        "\n",
        "###########\n",
        "# REPLACE #\n",
        "###########"
      ],
      "metadata": {
        "id": "kCuItBciKsoX"
      },
      "execution_count": null,
      "outputs": []
    },
    {
      "cell_type": "code",
      "source": [
        "#@title See Example Solution:\n",
        "\n",
        "for planet, radius in planet_info:\n",
        "  radius_ratio = radius / earth_radius\n",
        "\n",
        "  print(\"The ratio of\", planet, \"is\", radius_ratio, \"times the radius of Earth\")\n"
      ],
      "metadata": {
        "id": "xq0Jky_yMwhu"
      },
      "execution_count": null,
      "outputs": []
    },
    {
      "cell_type": "markdown",
      "source": [
        "### *Exercise 4* - Functions 💻\n",
        "\n",
        "\n",
        "*   A function is a re-usable block of code.\n",
        "*   Creating a function allows you to perform a specific task multiple times without having to repeat the same code.\n",
        "*   Note: defining a function doesn't run it. You have to call the function later for it to do the task you want.\n",
        "*   \"def\" is how you begin to define a function.\n",
        "*   A function needs a name and an input.\n",
        "\n"
      ],
      "metadata": {
        "id": "uPGWjaIGTRV-"
      }
    },
    {
      "cell_type": "code",
      "source": [
        "# Example 1\n",
        "def greet(name):    # defining the function, naming it \"greet\", and making the input a name\n",
        "  print(\"Hello,\", name)"
      ],
      "metadata": {
        "id": "kNPXuBGxQ6zv"
      },
      "execution_count": 87,
      "outputs": []
    },
    {
      "cell_type": "code",
      "source": [
        "# now call the function by replacing \"name\" with your name!\n",
        "greet(\"name\")                                                 # (remember the speech marks)"
      ],
      "metadata": {
        "id": "pJrpXjDcsBn-"
      },
      "execution_count": null,
      "outputs": []
    },
    {
      "cell_type": "markdown",
      "source": [
        "Next, we will learn how to build a function that **returns** a wanted result.\n",
        "\n"
      ],
      "metadata": {
        "id": "yBIMCcEAuQMB"
      }
    },
    {
      "cell_type": "code",
      "source": [
        "# Example 2\n",
        "def add(num1, num2):\n",
        "  return num1 + num2"
      ],
      "metadata": {
        "id": "xP6tP5TPtyO4"
      },
      "execution_count": 89,
      "outputs": []
    },
    {
      "cell_type": "code",
      "source": [
        "add(2, 5)    # try changing these numbers"
      ],
      "metadata": {
        "id": "_0m2HfrnudPS"
      },
      "execution_count": null,
      "outputs": []
    },
    {
      "cell_type": "markdown",
      "source": [
        "It is often useful to embed a loop within a function:"
      ],
      "metadata": {
        "id": "adDpLTV5u7ik"
      }
    },
    {
      "cell_type": "code",
      "source": [
        "# Example 3\n",
        "def countdown(start):\n",
        "  for i in range(start, 0, -1):\n",
        "    print(i)\n",
        "  print(\"Lift off!\")"
      ],
      "metadata": {
        "id": "KrIMKXH2sdpk"
      },
      "execution_count": 91,
      "outputs": []
    },
    {
      "cell_type": "code",
      "source": [
        "# Edit this cell to call the countdown function and enter what number to count down from\n",
        "\n",
        "###########\n",
        "# REPLACE #\n",
        "###########"
      ],
      "metadata": {
        "id": "4lbBSLM_sKra"
      },
      "execution_count": null,
      "outputs": []
    },
    {
      "cell_type": "code",
      "source": [
        "#@title Example Solution:\n",
        "\n",
        "countdown(10)"
      ],
      "metadata": {
        "id": "YQzKyzI116bs"
      },
      "execution_count": null,
      "outputs": []
    },
    {
      "cell_type": "code",
      "source": [
        "# Example 4\n",
        "def sum_up(list_of_numbers):\n",
        "  total = 0          # set an initial total to zero, which we will then add on to\n",
        "\n",
        "  for num in list_of_numbers:\n",
        "    total += num               # += just means \"add to the existing total\"\n",
        "  return total"
      ],
      "metadata": {
        "id": "rkCJUjpw1UoH"
      },
      "execution_count": 93,
      "outputs": []
    },
    {
      "cell_type": "code",
      "source": [
        "# Edit this cell to (a) define a list of numbers, and (b) call the sum_up function\n",
        "\n",
        "###########\n",
        "# REPLACE #\n",
        "###########"
      ],
      "metadata": {
        "id": "eRWFU88t1oOB"
      },
      "execution_count": null,
      "outputs": []
    },
    {
      "cell_type": "code",
      "source": [
        "#@title See Example Solution:\n",
        "\n",
        "list_of_numbers = [1, 2, 3, 4, 5]\n",
        "sum_up(list_of_numbers)"
      ],
      "metadata": {
        "id": "t3t1_HWL6Xsc"
      },
      "execution_count": null,
      "outputs": []
    },
    {
      "cell_type": "code",
      "source": [
        "# CHALLENGE: Write a function to multiply together all the numbers in this list, and then call the function:\n",
        "\n",
        "numbers = [2, 4, 6, 8, 10]\n",
        "\n",
        "############################\n",
        "# REPLACE WITH YOUR FUNCTION           # HINT: in Python, the multiply sign is a * symbol\n",
        "############################"
      ],
      "metadata": {
        "id": "0UT0xLIVzAIQ"
      },
      "execution_count": null,
      "outputs": []
    },
    {
      "cell_type": "code",
      "source": [
        "#@title See Solution:\n",
        "\n",
        "def multiply_numbers(numbers):\n",
        "  result = 1\n",
        "\n",
        "  for num in numbers:\n",
        "    result *= num\n",
        "  return result\n",
        "\n",
        "\n",
        "multiply_numbers(numbers)"
      ],
      "metadata": {
        "cellView": "form",
        "id": "7vuUdVet0Rwv"
      },
      "execution_count": null,
      "outputs": []
    },
    {
      "cell_type": "markdown",
      "source": [
        "### *Exercise 5*: Libraries 📚\n",
        "\n",
        "\n",
        "\n",
        "*   A Python library is a ready-made collection of **pre-defined functions** that we can call.\n",
        "*   It makes coding much quicker than having to define every function ourselves!\n",
        "*   Of course, there are still times where we do need to define our own unique ones, but libraries help us out!\n",
        "\n"
      ],
      "metadata": {
        "id": "n5PzLnKg7eon"
      }
    },
    {
      "cell_type": "code",
      "source": [
        "# numpy is a very helpful library for maths\n",
        "import numpy as np\n",
        "\n",
        "# matplotlib is a very helpful library for plotting things\n",
        "import matplotlib.pyplot as plt"
      ],
      "metadata": {
        "id": "nSO2z4fn7_0b"
      },
      "execution_count": 95,
      "outputs": []
    },
    {
      "cell_type": "markdown",
      "source": [
        "To call the library and use a function, we specify the name of the library and then after a full stop specify the function we want to use from it:"
      ],
      "metadata": {
        "id": "6vSKcs698ksd"
      }
    },
    {
      "cell_type": "code",
      "source": [
        "x = np.linspace(0, 15, 100)   # makes a set of 100 numbers from 1 to 15: (start, end, how many numbers)\n",
        "\n",
        "y = np.sin(x)     # create a variable of sin(x)"
      ],
      "metadata": {
        "id": "dNWHwyoT8OoN"
      },
      "execution_count": 96,
      "outputs": []
    },
    {
      "cell_type": "code",
      "source": [
        "# plot the function\n",
        "plt.plot(x, y)\n",
        "\n",
        "# add axes and title to the plot\n",
        "plt.title(\"A sine curve\")\n",
        "plt.xlabel(\"x\")\n",
        "plt.ylabel(\"sin(x)\")"
      ],
      "metadata": {
        "id": "7gNTyKk38vKe"
      },
      "execution_count": null,
      "outputs": []
    },
    {
      "cell_type": "code",
      "source": [
        "# CHALLENGE:\n",
        "# 1. Define a set of 150 numbers from 3 to 30 - name this whatever you want!\n",
        "# 2. Create another variable that is the cosine of your first set.\n",
        "# 3. Plot your two variables against one another!\n",
        "# 4. Add a title and axes to your plot.\n",
        "\n",
        "############################\n",
        "# REPLACE WITH YOUR FUNCTION\n",
        "############################\n"
      ],
      "metadata": {
        "id": "jZ-SrmW49SVq"
      },
      "execution_count": null,
      "outputs": []
    },
    {
      "cell_type": "code",
      "source": [
        "#@title Example Solution:\n",
        "\n",
        "my_set = np.linspace(3, 30, 150)\n",
        "cosine_set = np.cos(my_set)\n",
        "\n",
        "plt.plot(my_set, cosine_set)\n",
        "plt.title(\"A cosine curve\")\n",
        "plt.xlabel(\"x\")\n",
        "plt.ylabel(\"cos(x)\")"
      ],
      "metadata": {
        "cellView": "form",
        "id": "k-p-qInM-9IT"
      },
      "execution_count": null,
      "outputs": []
    },
    {
      "cell_type": "markdown",
      "source": [
        "## Well Done! 🎉\n",
        "\n",
        "You have completed this introduction to Python.\n",
        "\n",
        "Please fill out this feedback so I know what to improve for next time:\n",
        "\n",
        "https://docs.google.com/forms/d/e/1FAIpQLSelJqpC1TcZa_m3aLAfxwBmqz3vtQ2lboGyJiKnRsJj-_ziSA/viewform?usp=sharing"
      ],
      "metadata": {
        "id": "1vclZF7E_gtu"
      }
    }
  ]
}