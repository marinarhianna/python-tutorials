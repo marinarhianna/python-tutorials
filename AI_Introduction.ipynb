{
  "nbformat": 4,
  "nbformat_minor": 0,
  "metadata": {
    "colab": {
      "provenance": [],
      "authorship_tag": "ABX9TyNLDgjz9YBKQxsG+WC7W927",
      "include_colab_link": true
    },
    "kernelspec": {
      "name": "python3",
      "display_name": "Python 3"
    },
    "language_info": {
      "name": "python"
    }
  },
  "cells": [
    {
      "cell_type": "markdown",
      "metadata": {
        "id": "view-in-github",
        "colab_type": "text"
      },
      "source": [
        "<a href=\"https://colab.research.google.com/github/marinarhianna/python-tutorials/blob/main/AI_Introduction.ipynb\" target=\"_parent\"><img src=\"https://colab.research.google.com/assets/colab-badge.svg\" alt=\"Open In Colab\"/></a>"
      ]
    },
    {
      "cell_type": "markdown",
      "source": [
        "# Intro to Artificial Intelligence 👾\n",
        "\n",
        "\n",
        "---\n",
        "\n",
        "\n",
        "The purpose of this notebook is to introduce you to the **code** behind a neural network.\n",
        "\n",
        "\n",
        "*   This notebook is structured to give you a full explanation of what the code is doing, and then will show you a cell to try running.\n",
        "*  Read **carefully** through the description of what each cell is doing **before** you run it.\n",
        "*   Read through the code and the **comments**.\n",
        "*   Run the cell.\n",
        "\n",
        "\n",
        "Please ask for clarification on anything that is confusing!!\n",
        "\n",
        "\n",
        "\n"
      ],
      "metadata": {
        "id": "3L8rDiZhseoM"
      }
    },
    {
      "cell_type": "markdown",
      "source": [
        "## Step 1: Import Libraries 📖\n",
        "\n",
        "\n",
        "---\n",
        "\n",
        "\n",
        "The Python library `torch` is what we will use to build our neural network.\n",
        "\n",
        "Within `torch`, we need to import their *neural network* package and their *optimizer* package.\n",
        "\n"
      ],
      "metadata": {
        "id": "wMpuDXR98wrk"
      }
    },
    {
      "cell_type": "code",
      "source": [
        "# import the machine learning libraries and give the longer ones a nickname\n",
        "import torch\n",
        "import torch.nn as nn   # import the neural network package from torch\n",
        "import torch.optim as optim  # import the optimizer package from torch\n",
        "\n",
        "# import other useful packages for maths and plotting\n",
        "import numpy as np\n",
        "import matplotlib.pyplot as plt"
      ],
      "metadata": {
        "id": "DIWsmozXudSm"
      },
      "execution_count": null,
      "outputs": []
    },
    {
      "cell_type": "markdown",
      "source": [
        "## Step 2: Data 💽\n",
        "\n",
        "\n",
        "---\n",
        "\n",
        "\n",
        "Our neural network needs **data** to be **trained** and **tested** on.\n",
        "\n",
        "In this example, our dataset will just contain be groups of numbers that are either \"big\" or \"small\". The aim of this mini-neural-net will be to classify the groups into 2 classifications: big or small.\n",
        "\n",
        "\n",
        "For our **training** dataset:\n",
        "\n",
        "*   In this example, it is a dataset containing 4 groups of numbers.\n",
        "*   We store this within a list: `X_train = [[group 1], [group 2], [group 3]], [group 4]`\n",
        "*   The example in the cell contains two \"small\" number groups and two \"big\" number groups.\n",
        "\n",
        "For our network to **learn**, the data needs to be **labelled**:\n",
        "\n",
        "*   We store these labels within another list: `y_train = [label 1, label 2, ...]` where our labels go in the same order as what they are describing in `X_train`.\n",
        "*   We don't use words for labels, we use digits 0, 1, ...\n",
        "*   It is very important to make note of what digits we associate with each label in the comments."
      ],
      "metadata": {
        "id": "qPHh-Ks39fuk"
      }
    },
    {
      "cell_type": "code",
      "source": [
        "# create our training set, keep an eye on the brackets here!\n",
        "X_train = [[1, 2, 3, 4], [20, 30, 40, 50], [2, 4, 6, 8], [15, 30, 45, 60]]\n",
        "\n",
        "# label our training set: 0 = small numbers, 1 = big numbers\n",
        "y_train = [0, 1, 0, 1]  # ie. small, big, small, big"
      ],
      "metadata": {
        "id": "QnoP3mJjxKYb"
      },
      "execution_count": null,
      "outputs": []
    },
    {
      "cell_type": "markdown",
      "source": [
        "Now, we need to create a dataset to test on.\n",
        "\n",
        "A testing dataset is usually smaller than a training dataset.\n",
        "\n",
        "*   We store the testing set within another list: `X_test = [[group 1], [group 2]]`\n",
        "\n",
        "We also need to label our testing set using the same digit associations we used for the training set.\n",
        "*   We store these labels within a list: `y_test = [label 1, label 2]`"
      ],
      "metadata": {
        "id": "fI7Z3gCpDvev"
      }
    },
    {
      "cell_type": "code",
      "source": [
        "# create our testing dataset\n",
        "X_test = [[3, 6, 9, 12], [20, 40, 60, 80]]\n",
        "\n",
        "# label our testing dataset\n",
        "y_test = [0, 1]"
      ],
      "metadata": {
        "id": "-E9EGpTQDVXe"
      },
      "execution_count": null,
      "outputs": []
    },
    {
      "cell_type": "code",
      "source": [
        "# CHALLENGE: Edit this cell to print out a statement telling us which is the first and last group in the training set.\n",
        "\n",
        "###########\n",
        "# REPLACE #\n",
        "###########\n",
        "\n",
        "# HINT: Remember indexing from the previous session!"
      ],
      "metadata": {
        "id": "iJIdzgc5FrYn"
      },
      "execution_count": null,
      "outputs": []
    },
    {
      "cell_type": "code",
      "source": [
        "#@title Example Solution\n",
        "print(\"The first group in the training set is\", X_train[0], \"and the last group in the training set is\", X_train[3])"
      ],
      "metadata": {
        "id": "YH-se1g6DWq1"
      },
      "execution_count": null,
      "outputs": []
    },
    {
      "cell_type": "markdown",
      "source": [
        "Finally, we need to get our data into the correct **format** for the neural network to be able to understand it.\n",
        "\n",
        "`torch` can be picky about what form of data is inputted.\n",
        "\n",
        "It doesn't like lists, but it does like something called a `tensor`.\n",
        "\n",
        "A `tensor` is a bit like a *vector*: it contains **multiple dimensions** in one object.\n",
        "\n",
        "To convert our lists into tensors, we need to:\n",
        "\n",
        "\n",
        "1.   Create a new variable for our tensor objects.\n",
        "2.   Call the `torch` library and apply its inbuilt function `.tensor(...)`\n",
        "\n",
        "Recall from last week that a function requires certain information to be inputted to its brackets.\n",
        "\n",
        "The `.tensor` function requires:\n",
        "\n",
        "\n",
        "*   Name of the list we want to convert into a tensor\n",
        "*   The type of data, aka `dtype`\n",
        "\n",
        "There are different types of data, and we need to let `torch` know which ones to convert our lists into.\n",
        "\n",
        "*   **Whole numbers** aka integers aka NO decimal places:\n",
        "    * Suitable data type for *labels*, which we use for classification of data.\n",
        "    * To tell `torch` about this data type, we say `dtype=torch.long`\n",
        "\n",
        "*   **Decimals** aka NON-whole numbers:\n",
        "    * Referred to as a \"float\"\n",
        "    * Suitable data type for actual *contents of datasets*.\n",
        "    * To tell torch about this data type, we say `dtype=torch.float32`\n",
        "    * If you're curious, 32 refers to a computer-sciencey thing of \"32-bit\".\n",
        "    * What this does is convert `[1, 2, 3]` into `[1.0, 2.0, 3.0]`\n",
        "\n",
        "Finally, `torch` needs to know the exact **shape** of the input data.\n",
        "\n",
        "At the moment, our `X_train` dataset has the shape of `(4, 4)`.\n",
        "* There are 4 groups.\n",
        "* Each group has 4 numbers inside it.\n",
        "\n",
        "We need to add in a third \"channel\" telling `torch` how many **features** our data has.\n",
        "\n",
        "Our dataset only has one feature: the size of the numbers. So, our channel dimension would just be 1. To tell this to `torch`:\n",
        "* Add to the end `.unsqueeze(1)` where 1 is how many features we have.\n",
        "\n",
        "Discussion: How many features would a RGB colour image have?"
      ],
      "metadata": {
        "id": "BnGdV-ABG5eT"
      }
    },
    {
      "cell_type": "code",
      "source": [
        "# convert the training dataset into a tensor\n",
        "X_train_tensor = torch.tensor(X_train, dtype=torch.float32).unsqueeze(1)\n",
        "\n",
        "# convert the training labels into a tensor\n",
        "y_train_tensor = torch.tensor(y_train, dtype=torch.long)"
      ],
      "metadata": {
        "id": "QOQZea6axOAm"
      },
      "execution_count": null,
      "outputs": []
    },
    {
      "cell_type": "code",
      "source": [
        "# CHALLENGE: Edit this cell to convert the testing dataset and training labels into tensor objects\n",
        "\n",
        "# convert testing dataset into a tensor\n",
        "# ... replace ...\n",
        "\n",
        "# convert testing labels into a tensor\n",
        "# ... replace ..."
      ],
      "metadata": {
        "id": "rEOGKHbhO3vv"
      },
      "execution_count": null,
      "outputs": []
    },
    {
      "cell_type": "code",
      "source": [
        "#@title See Solution\n",
        "\n",
        "# convert testing dataset into a tensor\n",
        "X_test_tensor = torch.tensor(X_test, dtype=torch.float32).unsqueeze(1)\n",
        "\n",
        "# convert testing labels into a tensor\n",
        "y_test_tensor = torch.tensor(y_test, dtype=torch.long)"
      ],
      "metadata": {
        "cellView": "form",
        "id": "Cte8xyKqPJCo"
      },
      "execution_count": null,
      "outputs": []
    },
    {
      "cell_type": "markdown",
      "source": [
        "## Step 3: Design and Build our Neural Network 🤖\n",
        "\n",
        "\n",
        "---\n",
        "\n",
        "* A `class` is a bit like a blueprint for our CNN, that we give a name. In this example, I have named it `MyNetwork`, but we can name it whatever we want.\n",
        "\n",
        "* To set up a `class`, we need to call `Module` from `torch.nn`, which is how we let Python know that we are about to build a neural network. Remember that we gave `torch.nn` a nickname when we imported it of just `nn`.\n",
        "\n",
        "So it would look like:\n",
        "\n",
        "\n",
        "\n",
        "```\n",
        "class MyNetwork(nn.Module):\n",
        "```\n",
        "\n",
        "\n",
        "\n",
        "* Next, we need to define a `function` inside our `class` in which we can design the layers of our network.\n",
        "    * Python has a special inbuilt function to get us started with this, that we call using\n",
        "\n",
        "    `def __init__(self):`\n",
        "    \n",
        "    where `init` is short for *initialise*, and `self` just means *this specific object*, ie. this neural network. Don't worry about the underscores, they are just there to let Python know that we are initialising our network using its special inbuilt function.\n",
        "\n",
        "    * To start setting up our layers, we need to say `super(MyNetwork, self).__init__()` within the above function. `super` is how we tell Python that we are setting up a normal neural network, and we are about to add our own layers.\n",
        "    * Don't worry at all if this is confusing. The initial set-up of the neural network can feel like a totally different language, but things will become closer to normal English again soon!\n",
        "\n",
        "Now we can start defining the layers of our network. In this simple case, let's start with just one convolutional layer and one fully connected layer. Our convolutional layer acts as our pattern-detector, and the fully-connected layer acts as our decision-maker.\n",
        "\n",
        "To set up the convolutional layer:\n",
        "* We define a variable `self.conv1` which just means *convolutional layer number 1*.\n",
        "* If we were to add two convolutional layers, we would name the second one `self.conv2`, and so on...\n",
        "* We define this variable as `self.conv1 = nn.Conv1d(...)`, which is how we get `torch` to create an actual 1D convolutional layer in our neural network by calling `torch.nn.Conv1d` (again, remember our nickname when we imported it).\n",
        "\n",
        "* Within the brackets of `.Conv1d`, we need to define:\n",
        "    * Number of inputs (in this case = 1, because one row of number per group)\n",
        "    * Number of outputs (in this case = 4, because it learns four patterns)\n",
        "    * Kernel size (example = 2, looks at numbers 2 at a time)\n",
        "\n",
        "Recall that the kernel is the window that we slide across the input to perform the convolution and learn features bit by bit.\n",
        "* The kernel size determines how the dimensions of our data change as it moves through the network.\n",
        "* If we have four numbers: [1, 2, 3, 4], and the kernel size is 2 (ie looks at numbers 2 at a time), what happens is:\n",
        "    * First step: [1, 2]\n",
        "    * Second step: [2, 3]\n",
        "    * Third step: [3, 4]\n",
        "\n",
        "* This means once a convolution has been performed by the kernel, ***our sequence size shrinks from 4 to 3.***\n",
        "\n",
        "To set up our fully-connected layer:\n",
        "* Define a variable `self.fc1` which just means *fully-connected layer number 1*.\n",
        "* Define this variable as `self.fc1 = nn.Linear(...)` which is how we tell `torch` that this layer in our NN is just made of neurons and no convolutions.\n",
        "* The contents of our fully-connected layer depend on the outputs of the layer before:\n",
        "    * The convolutional layer produces four rows (ie. four groups of numbers).\n",
        "    * After the convolution, there are 3 entries within each group (due to kernel size).\n",
        "* This means for our fully-connected layer:\n",
        "    * Number of inputs = 4 * 3\n",
        "    * Number of outputs = 2 (our classification options: big or small)\n",
        "\n",
        "\n",
        "So, putting the above all together, it would look like:\n",
        "\n",
        "\n",
        "\n",
        "```\n",
        "    def __init__(self):\n",
        "        super(MyNetwork, self).__init__()\n",
        "        self.conv1 = nn.Conv1d(1, 4, 2)\n",
        "        self.fc1 = nn.Linear(4 * 3, 2)\n",
        "```\n",
        "\n"
      ],
      "metadata": {
        "id": "Zn20WrN4PSmG"
      }
    },
    {
      "cell_type": "markdown",
      "source": [
        "Next, we define another function within the class which has the purpose of *passing the information forward through the network*.\n",
        "* We define a function `def forward(self, x):`\n",
        "* The input `self` is how we tell Python that we are referring to the above layers.\n",
        "* The input `x` is how we describe the data that we will pass through the network.\n",
        "\n",
        "Within the function, we set `x` equal to what we named each layer in our above function, in the order we want to pass the data through.  \n",
        "\n",
        "This is how we tell Python to pass our data, which we have named `x`, through each layer in the network.\n",
        "\n",
        "We also include something called an Rectified Linear Unit (ReLU) **Activation Function**, which allows the network to learn non-linear patterns:\n",
        "* `torch.relu`\n",
        "\n",
        "Recall that between convolutional layers and fully connected layers we need to **flatten** our data. This essentially is a re-shaping which we do by telling Python to *view* the data, `x`, in a specified way:\n",
        "* `x.view(x.size(0), -1)`\n",
        "    * `size(0)` keeps the number of groups constant.\n",
        "    * `-1` puts everything into one row.\n",
        "\n",
        "So it would look like:\n",
        "\n",
        "\n",
        "```\n",
        "    def forward(self, x):\n",
        "        x = self.conv1(x)\n",
        "        x = torch.relu(x)\n",
        "        x = x.view(x.size(0), -1)\n",
        "        x = self.fc1(x)\n",
        "        return x\n",
        "```"
      ],
      "metadata": {
        "id": "6RN3PN96drVY"
      }
    },
    {
      "cell_type": "code",
      "source": [
        "# CHALLENGE: Edit this cell to piece together the above chunks of code to set up a neural network, adding your own comments to each line.\n",
        "\n",
        "###########\n",
        "# REPLACE #\n",
        "###########\n",
        "\n",
        "# Hint: remember to indent your functions properly within the class!"
      ],
      "metadata": {
        "id": "IN7UyhHShVaT"
      },
      "execution_count": null,
      "outputs": []
    },
    {
      "cell_type": "code",
      "source": [
        "#@title See Solution:\n",
        "\n",
        "# set up neural network and give it a name\n",
        "class MyNetwork(nn.Module):\n",
        "\n",
        "    # define a function for creating layers\n",
        "    def __init__(self):\n",
        "\n",
        "        # tell function name of network and initialise layers\n",
        "        super(MyNetwork, self).__init__()\n",
        "\n",
        "        # define convolutional layer: (input, output, kernel size)\n",
        "        self.conv1 = nn.Conv1d(1, 4, 2)\n",
        "\n",
        "        # define fully connected layer: (input, output)\n",
        "        self.fc1 = nn.Linear(4 * 3, 2)\n",
        "\n",
        "    # define function for passing info forward through network\n",
        "    def forward(self, x):\n",
        "\n",
        "        # pass data x into convolutional layer\n",
        "        x = self.conv1(x)\n",
        "\n",
        "        # apply activation function\n",
        "        x = torch.relu(x)\n",
        "\n",
        "        # flatten the data\n",
        "        x = x.view(x.size(0), -1)\n",
        "\n",
        "        # pass data x through fully-connected layer\n",
        "        x = self.fc1(x)\n",
        "\n",
        "        # return data x after it has gone through the layers\n",
        "        return x"
      ],
      "metadata": {
        "cellView": "form",
        "id": "XWwMKPSGxUWc"
      },
      "execution_count": null,
      "outputs": []
    }
  ]
}