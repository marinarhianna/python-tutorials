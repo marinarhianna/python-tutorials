{
  "nbformat": 4,
  "nbformat_minor": 0,
  "metadata": {
    "colab": {
      "provenance": [],
      "authorship_tag": "ABX9TyOOVGbXbIhRWx3KkJvmhvp2",
      "include_colab_link": true
    },
    "kernelspec": {
      "name": "python3",
      "display_name": "Python 3"
    },
    "language_info": {
      "name": "python"
    }
  },
  "cells": [
    {
      "cell_type": "markdown",
      "metadata": {
        "id": "view-in-github",
        "colab_type": "text"
      },
      "source": [
        "<a href=\"https://colab.research.google.com/github/marinarhianna/python-tutorials/blob/main/Exoplanet_Work_Experience.ipynb\" target=\"_parent\"><img src=\"https://colab.research.google.com/assets/colab-badge.svg\" alt=\"Open In Colab\"/></a>"
      ]
    },
    {
      "cell_type": "markdown",
      "source": [
        "# Part 1: Recap 🖨\n",
        "The cells below define some variables and then use these to print out fact statements.\n",
        "\n",
        "* Run them in order and see what the output is.\n",
        "\n",
        "* Change the cells below to describe the exoplanet TOI-700d instead.\n",
        "Search the web to find its radius and period, and alter the print statements by changing the variables.\n",
        "NB. Keep note of the radius units!"
      ],
      "metadata": {
        "id": "pPSpgUAXBIsP"
      }
    },
    {
      "cell_type": "code",
      "source": [
        "# define some information about an exoplanet\n",
        "planet_name = \"WASP-5b\"\n",
        "planet_radius = 1.18    # in Jupiter radii\n",
        "orbital_period = 1.63   # in days"
      ],
      "metadata": {
        "id": "FusVNmRyBdlC"
      },
      "execution_count": 2,
      "outputs": []
    },
    {
      "cell_type": "markdown",
      "source": [
        "Print out 3 statements below stating the above statistics as part of a sentence."
      ],
      "metadata": {
        "id": "lVRM_7_cgzI7"
      }
    },
    {
      "cell_type": "code",
      "source": [
        "###############################\n",
        "### REPLACE WITH YOUR CODE ###\n",
        "###############################"
      ],
      "metadata": {
        "id": "MjVX2iEZhLxf"
      },
      "execution_count": null,
      "outputs": []
    },
    {
      "cell_type": "code",
      "source": [
        "#@title Example Solution\n",
        "# print out some facts\n",
        "print(\"The planet is called\", planet_name)\n",
        "print(\"Its radius is\", planet_radius, \"times the radius of Jupiter.\")\n",
        "print(\"It goes around its star every\", orbital_period, \"days.\")"
      ],
      "metadata": {
        "cellView": "form",
        "id": "xMl4THt_CdRX"
      },
      "execution_count": null,
      "outputs": []
    },
    {
      "cell_type": "markdown",
      "source": [
        "Now, do some research (Wikipedia, Google, or similar) about some other exoplanets and write your own print statements using variables describing features such as:\n",
        "\n",
        "* Mass\n",
        "* Temperature\n",
        "* Detection method\n",
        "* Distance from star (also known as semi-major axis)\n",
        "\n"
      ],
      "metadata": {
        "id": "XnLf-MBADEQV"
      }
    },
    {
      "cell_type": "code",
      "source": [
        "###############################\n",
        "### REPLACE WITH YOUR CODE ###\n",
        "###############################"
      ],
      "metadata": {
        "id": "zCcRxixFE26J"
      },
      "execution_count": null,
      "outputs": []
    },
    {
      "cell_type": "markdown",
      "source": [
        "# Part 2: Use `lightkurve` to explore real exoplanet data 🪐\n",
        "\n",
        "`lightkurve` is a Python library of functions used by real astronomers to analyse transit data.\n",
        "\n",
        "Libraries such as `numpy` are common, and so will be pre-installed on Google Colab and are ready to import into the notebook. `lightkurve` is more niche, so we first need to install it ourselves using a command called `pip` before we can import it. All you need to do is run the cell below and wait for it to install!"
      ],
      "metadata": {
        "id": "RA_yYJ0-BE5r"
      }
    },
    {
      "cell_type": "code",
      "execution_count": null,
      "metadata": {
        "collapsed": true,
        "id": "NKXEoZW8mhBm"
      },
      "outputs": [],
      "source": [
        "!pip install lightkurve --quiet"
      ]
    },
    {
      "cell_type": "code",
      "source": [
        "# import libraries\n",
        "from lightkurve import search_lightcurve\n",
        "import matplotlib.pyplot as plt"
      ],
      "metadata": {
        "id": "7lnYKzPzmoOV"
      },
      "execution_count": null,
      "outputs": []
    },
    {
      "cell_type": "markdown",
      "source": [
        "The code below combines different Python concepts we have seen:\n",
        "* Setting a variable\n",
        "* Calling a function from a library\n",
        "\n",
        "Here, we are back-to-backing two functions and creating a variable to store the result, all in one line. The two functions are:\n",
        "* `search_lightcurve()`\n",
        "* `download()`\n",
        "\n",
        "Then we just take the variable we defined and plot it."
      ],
      "metadata": {
        "id": "_WmyiK7CN7QU"
      }
    },
    {
      "cell_type": "code",
      "source": [
        "# make a variable for the light curve, search the database, and download a light curve of a known planet\n",
        "lc = search_lightcurve(\"Kepler-6\", mission='Kepler').download()\n",
        "\n",
        "# plot the light curve\n",
        "lc.plot()"
      ],
      "metadata": {
        "id": "6VxFdBOaN2eQ"
      },
      "execution_count": null,
      "outputs": []
    },
    {
      "cell_type": "markdown",
      "source": [
        "* What features do you notice here?\n",
        "* Estimate the period of the planet by measuring the gaps between each dip in days."
      ],
      "metadata": {
        "id": "1UJPyhT0OOcY"
      }
    },
    {
      "cell_type": "markdown",
      "source": [
        "Now, let's clean this up a bit! We want to remove the large upward spikes, as they don't contain useful planetary info and make the dips harder to see. To do this, we need to set a `sigma=` value within the `remove_outliers()` function.\n",
        "* Try `sigma=` numbers between `10` and `1` and observe what happens to the plot.\n",
        "\n",
        "Remember, we want to preserve the shape and prominence of the downward dips, but remove the upward ones as much as possible -- try to find the sweet spot!\n",
        "\n",
        "* Can you think of any possible origin of these upward spikes?"
      ],
      "metadata": {
        "id": "GSw8-4ZxOpN7"
      }
    },
    {
      "cell_type": "code",
      "source": [
        "# removing outliers\n",
        "new_lc = lc.remove_outliers(sigma=)\n",
        "\n",
        "# plot the new light curve\n",
        "new_lc.plot()"
      ],
      "metadata": {
        "id": "wHkYdot0xyuX"
      },
      "execution_count": null,
      "outputs": []
    },
    {
      "cell_type": "markdown",
      "source": [
        "Notice how the above code defines a new variable for the light curve and gives it a new name, and sets this equal to the function performing on the old light curve.\n",
        "\n",
        "Astronomers often change the y-axis units of flux to be normalized, meaning they are centred around a baseline of 1.\n",
        "\n",
        "Lightkurve has a ready-made function to do this, called `.normalize()`\n",
        "\n",
        "* Define another new variable for the normalized light curve (name it whatever you like!) and call the `.normalize()` function on the previous light curve produced from the remove outlier step.\n",
        "* Plot your new light curve.\n"
      ],
      "metadata": {
        "id": "-5dvu4pJQ0oC"
      }
    },
    {
      "cell_type": "code",
      "source": [
        "###############################\n",
        "### REPLACE WITH YOUR CODE ###\n",
        "###############################"
      ],
      "metadata": {
        "id": "KLc5Xv2LRl8I"
      },
      "execution_count": null,
      "outputs": []
    },
    {
      "cell_type": "markdown",
      "source": [
        "If you get stuck, you can see the solution by clicking the blue Show code below."
      ],
      "metadata": {
        "id": "j7cIp3ouRm1g"
      }
    },
    {
      "cell_type": "code",
      "source": [
        "# @title Solution:\n",
        "\n",
        "# implement normalizing function and create new light curve for it\n",
        "norm_lc = new_lc.normalize()\n",
        "\n",
        "# plot new light curve\n",
        "norm_lc.plot()"
      ],
      "metadata": {
        "cellView": "form",
        "id": "XgP-Gj6UO2wV"
      },
      "execution_count": null,
      "outputs": []
    },
    {
      "cell_type": "markdown",
      "source": [
        "Astronomers also often fold a light curve over its period to separate the transits from the noise.\n",
        "\n",
        "Lightkurve has a function for this called `.fold(period)`\n",
        "\n",
        "To do this:\n",
        "* Define a variable for the period in days (eg. for Earth, `period = 365`)\n",
        "* Implement the folding function\n",
        "* Plot the results.\n",
        "\n",
        "If the plot doesn't look right, maybe your estimate of the period was a little off (this is normal and common!). If so, the correct period should be 3.23 days.\n"
      ],
      "metadata": {
        "id": "7KfYr0AeRrfj"
      }
    },
    {
      "cell_type": "code",
      "source": [
        "###############################\n",
        "### REPLACE WITH YOUR CODE ###\n",
        "###############################"
      ],
      "metadata": {
        "id": "vOwCV9qxS3xc"
      },
      "execution_count": null,
      "outputs": []
    },
    {
      "cell_type": "code",
      "source": [
        "#@title Solution:\n",
        "\n",
        "# set variable for period\n",
        "period = 3.23\n",
        "\n",
        "# implement folding function and create new light curve for it\n",
        "folded_lc = norm_lc.fold(period)\n",
        "\n",
        "# plot new light curve\n",
        "folded_lc.plot()"
      ],
      "metadata": {
        "cellView": "form",
        "id": "nImHxBV1nyX0"
      },
      "execution_count": null,
      "outputs": []
    },
    {
      "cell_type": "markdown",
      "source": [
        "## Osiris 🪐\n",
        "\n",
        "HD 209458b is a famous exoplanet in the Pegasus constellation that orbits a solar analog star. Some people informally call it Osiris. The period is 3.52 days.\n",
        "\n",
        "Let's take a look at it!\n",
        "\n",
        "* Use the `search_lightcurve` function to download the light curve for `HD 209458`, observed by the `TESS` mission."
      ],
      "metadata": {
        "id": "1mDBMmvfYL0n"
      }
    },
    {
      "cell_type": "code",
      "source": [
        "###############################\n",
        "### REPLACE WITH YOUR CODE ###\n",
        "###############################"
      ],
      "metadata": {
        "id": "SQlJzMkiah-I"
      },
      "execution_count": 1,
      "outputs": []
    },
    {
      "cell_type": "code",
      "source": [
        "# @title Solution:\n",
        "\n",
        "# download light curve for HD 209458\n",
        "lc = search_lightcurve(\"HD 209458\", mission='TESS').download()\n",
        "lc.plot()"
      ],
      "metadata": {
        "cellView": "form",
        "id": "3KyRn8kB0wKZ"
      },
      "execution_count": null,
      "outputs": []
    },
    {
      "cell_type": "markdown",
      "source": [
        "* Do you see any significant upward spike outliers that need to be removed? If so, implement the `remove_outliers` function. If not, you can skip that step.\n",
        "\n",
        "Notice that the baseline is wavey, as if it is slightly oscillating. Lightkurve also has a function to deal with this, called `.flatten()` which applies a smoothing, or \"detrending\" filter.\n",
        "\n",
        "* Try flattening out the light curve by implementing the function in the same way we have done others. If you get stuck, you can check the solution!"
      ],
      "metadata": {
        "id": "09owz9Q8arYj"
      }
    },
    {
      "cell_type": "code",
      "source": [
        "###############################\n",
        "### REPLACE WITH YOUR CODE ###\n",
        "###############################"
      ],
      "metadata": {
        "id": "bm7Uu52hbIy3"
      },
      "execution_count": null,
      "outputs": []
    },
    {
      "cell_type": "code",
      "source": [
        "#@title Solution:\n",
        "flat_lc = lc.flatten()\n",
        "flat_lc.plot()"
      ],
      "metadata": {
        "cellView": "form",
        "id": "jKnpfoeBZMaw"
      },
      "execution_count": null,
      "outputs": []
    },
    {
      "cell_type": "markdown",
      "source": [
        "* Phase-fold the flattened curve over the period."
      ],
      "metadata": {
        "id": "EQQshObdbUn6"
      }
    },
    {
      "cell_type": "code",
      "source": [
        "###############################\n",
        "### REPLACE WITH YOUR CODE ###\n",
        "###############################"
      ],
      "metadata": {
        "id": "n7skuqhkbb1u"
      },
      "execution_count": null,
      "outputs": []
    },
    {
      "cell_type": "code",
      "source": [
        "#@title Solution:\n",
        "period = 3.52\n",
        "fold_lc= flat_lc.fold(period)\n",
        "fold_lc.plot()"
      ],
      "metadata": {
        "cellView": "form",
        "id": "g16DyQLNTsbK"
      },
      "execution_count": null,
      "outputs": []
    },
    {
      "cell_type": "markdown",
      "source": [
        "The radius of the star HD 209458 is 1.2 Solar Radii.\n",
        "\n",
        "Below is an equation which links the depth of the transit dip to the planetary radius and the stellar radius.\n",
        "\n",
        "Python can be used like a calculator!\n",
        "\n",
        "![image.png](data:image/png;base64,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)\n",
        "\n",
        "* Calculate the planetary radius in Solar Radii units.\n",
        "* Then convert this to Jupiter Radii units, where 1 Solar Radius = 9.73 Jupiter Radii.\n",
        "\n",
        "The depth will be the baseline minus how far down the dip goes.  \n",
        "\n",
        "Hint: To use a square root in Python, you can import the `numpy` module as `np` and use `np.sqrt()`"
      ],
      "metadata": {
        "id": "1OHWYTcmbgBa"
      }
    },
    {
      "cell_type": "code",
      "source": [
        "###############################\n",
        "### REPLACE WITH YOUR CODE ###\n",
        "###############################"
      ],
      "metadata": {
        "id": "o_Y2egGNpDWS"
      },
      "execution_count": null,
      "outputs": []
    },
    {
      "cell_type": "code",
      "source": [
        "#@title Example Solution:\n",
        "import numpy as np\n",
        "\n",
        "depth = 0.01\n",
        "\n",
        "radius_ratio = np.sqrt(depth)\n",
        "\n",
        "planet_radius_solar = radius_ratio * 1.2\n",
        "\n",
        "planet_radius_jup = planet_radius_solar * 9.73\n",
        "\n",
        "print(\"The planetary radius is\", planet_radius_jup, \"times the radius of Jupiter.\")"
      ],
      "metadata": {
        "cellView": "form",
        "id": "W7BQNukqn_A9"
      },
      "execution_count": null,
      "outputs": []
    },
    {
      "cell_type": "markdown",
      "source": [
        "## ✨ Explore the tools yourself!\n",
        "\n",
        "Above you have seen various ways to deal with light curve data such as:\n",
        "* Removing outliers\n",
        "* Flattening\n",
        "* Folding\n",
        "* Normalizing\n",
        "\n",
        "Not every light curve will need all of these processes, and part of being an astronomer is looking at the raw data and deciding what processing needs to be done to analyse the curve.\n",
        "\n",
        "Google \"NASA Eyes on Exoplanets\" and click the first link to take you to a tool which allows you to explore a vast variety of exoplanets.\n",
        "\n",
        "Play around with the tool and explore any planets that look interesting to you by:\n",
        "* Confirming the name of the planet\n",
        "* Checking what instrument it was observed by (Kepler or TESS, or both!)\n",
        "* Use the search_lightcurve tool to download the data.\n",
        "* Look at the raw curve and decide what will help to see the transits better.\n",
        "\n",
        "For example:\n",
        "* If the baseline is wavey, flatten it!\n",
        "* If there are many upward spikes, remove the outliers!\n",
        "\n",
        "Play around with this tool to explore what different light curves look like. Some will be more straightforward, others may be complex and difficult to handle! If you see a lightcurve that looks like a nightmare, feel free to move onto another, or discuss what might be causing the effect.\n",
        "\n",
        "\n",
        "\n"
      ],
      "metadata": {
        "id": "yA3WiPAbdVkY"
      }
    },
    {
      "cell_type": "code",
      "source": [
        "###############################\n",
        "### REPLACE WITH YOUR CODE ###\n",
        "###############################"
      ],
      "metadata": {
        "id": "jWO3iE9pdVL3"
      },
      "execution_count": null,
      "outputs": []
    },
    {
      "cell_type": "markdown",
      "source": [
        "Note: The `.flatten()` function will often work on its own, but in some cases it will need extra parameters put inside the brackets. If you are finding that it isn't working the way you want it to, try putting in the brackets:\n",
        "\n",
        "`.flatten(window_length=101)` or `.flatten(window_length=201)`\n",
        "\n",
        "If those don't work, you could try other numbers like 301 or even 1001. The window length is how the flattening filter knows to remove trends: a longer window will remove slower trends, while a shorter window will remove faster trends."
      ],
      "metadata": {
        "id": "JbiA7vF0ffVc"
      }
    }
  ]
}